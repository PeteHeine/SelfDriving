{
 "cells": [
  {
   "cell_type": "raw",
   "metadata": {},
   "source": [
    "My First notebook program"
   ]
  },
  {
   "cell_type": "markdown",
   "metadata": {},
   "source": [
    "It is possible *italic letters* **bold letters** to add links, do math and stuff with a Markdown cell. SMART\n",
    "[link](www.google.dk)$\\sum N D S$\n",
    "\n",
    "In line math $$ \\sum $$ \n",
    "\n",
    "Code syntax \n",
    "``` python\n",
    "print('HelloWorld')\n",
    "```\n",
    "\n",
    "And (potentially) images\n",
    "![This is an image](http://jupyter.org/images/jupyter-sq-text.svg)"
   ]
  },
  {
   "cell_type": "code",
   "execution_count": 5,
   "metadata": {
    "collapsed": false
   },
   "outputs": [
    {
     "name": "stdout",
     "output_type": "stream",
     "text": [
      "HelloWorld\n"
     ]
    },
    {
     "data": {
      "text/html": [
       "<table><tr><td>some</dt><td>table</td></tr></table>"
      ]
     },
     "metadata": {},
     "output_type": "display_data"
    },
    {
     "data": {
      "image/png": "[encoded data removed]",
      "text/plain": [
       "<matplotlib.figure.Figure at 0x7f088ca19668>"
      ]
     },
     "metadata": {},
     "output_type": "display_data"
    }
   ],
   "source": [
    "import numpy as np\n",
    "import matplotlib.pyplot as plt\n",
    "%matplotlib inline\n",
    "print(\"HelloWorld\")\n",
    "plt.imshow(np.random.rand(20,20),interpolation='none');\n",
    "from IPython.display import display_html\n",
    "from IPython.html.widgets import FloatSlider\n",
    "display_html('<table><tr><td>some</dt><td>table</td></tr></table>',raw=True)\n",
    "FloatSlider(75)"
   ]
  },
  {
   "cell_type": "code",
   "execution_count": null,
   "metadata": {
    "collapsed": true
   },
   "outputs": [],
   "source": []
  },
  {
   "cell_type": "code",
   "execution_count": null,
   "metadata": {
    "collapsed": true
   },
   "outputs": [],
   "source": []
  }
 ],
 "metadata": {
  "anaconda-cloud": {},
  "kernelspec": {
   "display_name": "Python [conda root]",
   "language": "python",
   "name": "conda-root-py"
  },
  "language_info": {
   "codemirror_mode": {
    "name": "ipython",
    "version": 3
   },
   "file_extension": ".py",
   "mimetype": "text/x-python",
   "name": "python",
   "nbconvert_exporter": "python",
   "pygments_lexer": "ipython3",
   "version": "3.5.2"
  },
  "widgets": {
   "state": {
    "affe9b465fff455fab3c4dd029fed2a3": {
     "views": [
      {
       "cell_index": 2
      }
     ]
    }
   },
   "version": "1.2.0"
  }
 },
 "nbformat": 4,
 "nbformat_minor": 1
}
